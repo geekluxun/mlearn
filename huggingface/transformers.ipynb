{
 "cells": [
  {
   "cell_type": "code",
   "execution_count": null,
   "id": "initial_id",
   "metadata": {
    "collapsed": true
   },
   "outputs": [],
   "source": [
    "from transformers import GenerationConfig\n",
    "from transformers import pipeline\n",
    "\n",
    "generation_config = GenerationConfig(\n",
    "    max_new_tokens=50, do_sample=True, top_k=50\n",
    ")\n",
    "# pipeline形式调用\n",
    "pipe = pipeline(\"text-generation\", model=\"/Users/luxun/workspace/ai/hf/models/Qwen1.5-0.5B\", device=\"mps\")\n",
    "pipe.generation_config = generation_config\n",
    "pipe(\"hello!\")"
   ]
  }
 ],
 "metadata": {
  "kernelspec": {
   "display_name": "Python 3",
   "language": "python",
   "name": "python3"
  },
  "language_info": {
   "codemirror_mode": {
    "name": "ipython",
    "version": 2
   },
   "file_extension": ".py",
   "mimetype": "text/x-python",
   "name": "python",
   "nbconvert_exporter": "python",
   "pygments_lexer": "ipython2",
   "version": "2.7.6"
  }
 },
 "nbformat": 4,
 "nbformat_minor": 5
}
