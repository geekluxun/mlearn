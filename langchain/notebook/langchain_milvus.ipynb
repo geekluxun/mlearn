{
 "cells": [
  {
   "metadata": {},
   "cell_type": "code",
   "source": [
    "from langchain_ollama import OllamaEmbeddings\n",
    "\n",
    "embeddings = OllamaEmbeddings(model=\"quentinz/bge-large-zh-v1.5\")"
   ],
   "id": "511d9b5dc217f13f",
   "outputs": [],
   "execution_count": null
  },
  {
   "metadata": {},
   "cell_type": "code",
   "source": [
    "from langchain_milvus import Milvus\n",
    "from langchain_core.documents import Document\n",
    "# The easiest way is to use Milvus Lite where everything is stored in a local file.\n",
    "# If you have a Milvus server you can use the server URI such as \"http://localhost:19530\".\n",
    "URI = \"milvus_example.db\"\n",
    "vector_store = Milvus(\n",
    "    embedding_function=embeddings,  # 替换为你的嵌入生成函数\n",
    "    collection_name=\"my_collection2\",\n",
    "    connection_args={\"uri\": URI},\n",
    "    auto_id=False,\n",
    "    partition_names=\"sub_1\",\n",
    "    partition_key_field=\"source\",\n",
    ")"
   ],
   "id": "bdde8b550e0f2205",
   "outputs": [],
   "execution_count": null
  },
  {
   "metadata": {},
   "cell_type": "code",
   "source": [
    "from uuid import uuid4\n",
    "documents = [\n",
    "    Document(page_content=\"This is document 1.\", metadata={\"source\": \"doc1\"}),\n",
    "    Document(page_content=\"This is document 2.\", metadata={\"source\": \"doc2\"}),\n",
    "]\n",
    "uuids = [str(uuid4()) for _ in range(len(documents))]\n",
    "vector_store.add_documents(documents, ids=uuids)"
   ],
   "id": "3d40cdd1e2373f91",
   "outputs": [],
   "execution_count": null
  },
  {
   "metadata": {},
   "cell_type": "code",
   "source": [
    "# \n",
    "results = vector_store.similarity_search(\"This is a query.\", k=2)\n",
    "for result in results:\n",
    "    print(f\"Content: {result.page_content}, Metadata: {result.metadata}\")"
   ],
   "id": "d5b5c60f1da85e6b",
   "outputs": [],
   "execution_count": null
  },
  {
   "metadata": {},
   "cell_type": "code",
   "source": "vector_store.delete(ids=[uuids[0]])",
   "id": "67963992c51327d2",
   "outputs": [],
   "execution_count": null
  },
  {
   "metadata": {},
   "cell_type": "code",
   "source": [
    "# 删除collection\n",
    "from pymilvus import MilvusClient\n",
    "client = MilvusClient(\"./milvus_example.db\")\n",
    "print(client.describe_collection(\"my_collection\"))\n",
    "client.drop_collection(collection_name=\"my_collection\")"
   ],
   "id": "7083492b9edbb7d1",
   "outputs": [],
   "execution_count": null
  }
 ],
 "metadata": {
  "kernelspec": {
   "display_name": "Python 3",
   "language": "python",
   "name": "python3"
  },
  "language_info": {
   "codemirror_mode": {
    "name": "ipython",
    "version": 2
   },
   "file_extension": ".py",
   "mimetype": "text/x-python",
   "name": "python",
   "nbconvert_exporter": "python",
   "pygments_lexer": "ipython2",
   "version": "2.7.6"
  }
 },
 "nbformat": 4,
 "nbformat_minor": 5
}
