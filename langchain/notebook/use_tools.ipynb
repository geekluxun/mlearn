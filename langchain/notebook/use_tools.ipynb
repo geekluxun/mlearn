{
 "cells": [
  {
   "cell_type": "code",
   "id": "initial_id",
   "metadata": {
    "collapsed": true,
    "ExecuteTime": {
     "end_time": "2024-11-21T04:33:59.043244Z",
     "start_time": "2024-11-21T04:33:59.039913Z"
    }
   },
   "source": [
    "from langchain_core.caches import InMemoryCache\n",
    "from langchain_core.globals import set_debug\n",
    "from langchain_core.globals import set_llm_cache\n",
    "from langchain_core.globals import set_verbose\n",
    "\n",
    "set_debug(False)\n",
    "set_verbose(False)\n",
    "set_llm_cache(InMemoryCache())"
   ],
   "outputs": [],
   "execution_count": 4
  },
  {
   "metadata": {},
   "cell_type": "code",
   "source": "!pip install wikipedia",
   "id": "e9cc9d6b72f942d8",
   "outputs": [],
   "execution_count": null
  },
  {
   "metadata": {},
   "cell_type": "code",
   "source": [
    "# 使用集成的Wikipedia工具\n",
    "from langchain_community.tools import WikipediaQueryRun\n",
    "from langchain_community.utilities import WikipediaAPIWrapper\n",
    "\n",
    "api_wrapper = WikipediaAPIWrapper(top_k_results=1, doc_content_chars_max=1000)\n",
    "tool = WikipediaQueryRun(api_wrapper=api_wrapper)\n",
    "\n",
    "print(tool.invoke({\"query\": \"langchain\"}))\n",
    "\n",
    "print(f\"Name: {tool.name}\")\n",
    "print(f\"Description: {tool.description}\")\n",
    "print(f\"args schema: {tool.args}\")\n",
    "print(f\"returns directly?: {tool.return_direct}\")"
   ],
   "id": "71d3ea84e5164daa",
   "outputs": [],
   "execution_count": null
  },
  {
   "metadata": {},
   "cell_type": "code",
   "source": "",
   "id": "f96f51cc22149e8c",
   "outputs": [],
   "execution_count": null
  },
  {
   "metadata": {},
   "cell_type": "code",
   "source": [
    "# 定义一个工具\n",
    "from pydantic import BaseModel, Field\n",
    "\n",
    "\n",
    "class CalculatorInput(BaseModel):\n",
    "    a: int = Field(description=\"first number\")\n",
    "    b: int = Field(description=\"second number\")\n",
    "\n",
    "\n",
    "@tool(\"multiplication-tool\", args_schema=CalculatorInput, return_direct=True)\n",
    "def multiply(a: int, b: int) -> int:\n",
    "    \"\"\"Multiply two numbers.\"\"\"\n",
    "    return a * b\n",
    "\n",
    "# Let's inspect some of the attributes associated with the tool.\n",
    "print(multiply.name)\n",
    "print(multiply.description)\n",
    "print(multiply.args)\n",
    "print(multiply.return_direct)\n",
    "\n",
    "multiply.invoke({\"a\": 4, \"b\": 3})"
   ],
   "id": "30c58ef10c8ec39a",
   "outputs": [],
   "execution_count": null
  },
  {
   "metadata": {},
   "cell_type": "raw",
   "source": "完整的从工具定义到调用示例",
   "id": "630ff3d29a537d9a"
  },
  {
   "metadata": {
    "ExecuteTime": {
     "end_time": "2024-11-21T04:42:51.257304Z",
     "start_time": "2024-11-21T04:42:50.254377Z"
    }
   },
   "cell_type": "code",
   "source": [
    "#定义1个工具\n",
    "from langchain_core.tools import StructuredTool\n",
    "from pydantic import BaseModel, Field\n",
    "from langchain_ollama import ChatOllama\n",
    "\n",
    "class CalculatorInput(BaseModel):\n",
    "    a: int = Field(description=\"first number\")\n",
    "    b: int = Field(description=\"second number\")\n",
    "\n",
    "\n",
    "def multiply(a: int, b: int) -> int:\n",
    "    \"\"\"Multiply two numbers.\"\"\"\n",
    "    return a * b\n",
    "\n",
    "calculator = StructuredTool.from_function(\n",
    "    func=multiply,\n",
    "    name=\"Calculator\",\n",
    "    description=\"multiply numbers\",\n",
    "    args_schema=CalculatorInput,\n",
    "    return_direct=True,\n",
    "    # coroutine= ... <- you can specify an async method if desired as well\n",
    ")\n",
    "\n",
    "print(calculator.name)\n",
    "print(calculator.description)\n",
    "print(calculator.args)\n",
    "\n",
    "#调用工具\n",
    "print(calculator.invoke({\"a\": 11, \"b\": 3}))\n",
    "# \n",
    "tools = [calculator]\n",
    "\n",
    "\n",
    "llm = ChatOllama(\n",
    "    model=\"qwen2:7b\",\n",
    "    temperature=0,\n",
    "    # other params...\n",
    ")\n",
    "llm_with_tools = llm.bind_tools(tools)\n",
    "query = \"What is 3 * 12?\"\n",
    "#query = \"What is 3 * 12? Also, what is 11 + 49?\"\n",
    "from langchain_core.messages import HumanMessage\n",
    "\n",
    "messages = [HumanMessage(query)]\n",
    "\n",
    "ai_msg = llm_with_tools.invoke(query)\n",
    "print(ai_msg.tool_calls)\n",
    "\n",
    "messages.append(ai_msg)\n",
    "\n",
    "for tool_call in ai_msg.tool_calls:\n",
    "    # 选择匹配的工具调用\n",
    "    selected_tool = next((tool for tool in tools if tool.name == tool_call['name']), None)\n",
    "    if selected_tool:\n",
    "        tool_msg = selected_tool.invoke(tool_call['args'])\n",
    "        # 调用结果重写传递给llm,生成最终的回答\n",
    "        messages.append(HumanMessage(content=str(tool_msg)))\n",
    "        llm_with_tools.invoke(messages)\n"
   ],
   "id": "b90918c8ed793097",
   "outputs": [
    {
     "name": "stdout",
     "output_type": "stream",
     "text": [
      "Calculator\n",
      "multiply numbers\n",
      "{'a': {'description': 'first number', 'title': 'A', 'type': 'integer'}, 'b': {'description': 'second number', 'title': 'B', 'type': 'integer'}}\n",
      "33\n",
      "[{'name': 'Calculator', 'args': {'a': 3, 'b': 12}, 'id': '5fe95e50-b1f1-4fe5-b080-099605d2e740', 'type': 'tool_call'}]\n",
      "36\n"
     ]
    },
    {
     "data": {
      "text/plain": [
       "AIMessage(content='The result of multiplying 3 by 12 is 36.', additional_kwargs={}, response_metadata={'model': 'qwen2:7b', 'created_at': '2024-11-21T04:42:51.252299Z', 'message': {'role': 'assistant', 'content': 'The result of multiplying 3 by 12 is 36.'}, 'done_reason': 'stop', 'done': True, 'total_duration': 978726375, 'load_duration': 309337834, 'prompt_eval_count': 196, 'prompt_eval_duration': 329000000, 'eval_count': 16, 'eval_duration': 197000000}, id='run-601da4d6-32d1-4fd8-9cf9-78f1eada40d5-0', usage_metadata={'input_tokens': 196, 'output_tokens': 16, 'total_tokens': 212})"
      ]
     },
     "execution_count": 14,
     "metadata": {},
     "output_type": "execute_result"
    }
   ],
   "execution_count": 14
  }
 ],
 "metadata": {
  "kernelspec": {
   "display_name": "Python 3",
   "language": "python",
   "name": "python3"
  },
  "language_info": {
   "codemirror_mode": {
    "name": "ipython",
    "version": 2
   },
   "file_extension": ".py",
   "mimetype": "text/x-python",
   "name": "python",
   "nbconvert_exporter": "python",
   "pygments_lexer": "ipython2",
   "version": "2.7.6"
  }
 },
 "nbformat": 4,
 "nbformat_minor": 5
}
