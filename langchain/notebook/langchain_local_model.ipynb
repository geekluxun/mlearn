{
 "cells": [
  {
   "metadata": {},
   "cell_type": "code",
   "source": [
    "from langchain_core.caches import InMemoryCache\n",
    "from langchain_core.globals import set_debug\n",
    "from langchain_core.globals import set_llm_cache\n",
    "from langchain_core.globals import set_verbose\n",
    "from langchain_core.prompts import PromptTemplate\n",
    "from langchain_huggingface import HuggingFaceEndpoint\n",
    "\n",
    "set_verbose(True)\n",
    "set_debug(False)\n",
    "set_llm_cache(InMemoryCache())"
   ],
   "id": "9592e0b57dad3767",
   "outputs": [],
   "execution_count": null
  },
  {
   "metadata": {},
   "cell_type": "code",
   "source": [
    "# 这里是通过http接口请求HuggingFace上部署的端点，不能是本地模型！！！\n",
    "repo_id = \"Qwen/Qwen1.5-0.5B\"\n",
    "llm = HuggingFaceEndpoint(\n",
    "    repo_id=repo_id\n",
    ")\n",
    "question = \"Who won the FIFA World Cup in the year 1994? \"\n",
    "\n",
    "template = \"\"\"Question: {question}\n",
    "\n",
    "Answer: Let's think step by step.\"\"\"\n",
    "\n",
    "prompt = PromptTemplate.from_template(template)\n",
    "llm_chain = prompt | llm\n",
    "\n",
    "llm_chain.invoke({\"question\": question})"
   ],
   "id": "initial_id",
   "outputs": [],
   "execution_count": null
  },
  {
   "metadata": {},
   "cell_type": "markdown",
   "source": "ollama方式",
   "id": "68be26b7517d521a"
  },
  {
   "metadata": {},
   "cell_type": "code",
   "source": [
    "from langchain_core.prompts import ChatPromptTemplate\n",
    "from langchain_ollama.llms import OllamaLLM\n",
    "\n",
    "template = \"\"\"Question: {question} Answer: Let's think step by step.\"\"\"\n",
    "\n",
    "prompt = ChatPromptTemplate.from_template(template)\n",
    "\n",
    "model = OllamaLLM(model=\"qwen2:7b\")\n",
    "chain = prompt | model\n",
    "\n",
    "chain.invoke({\"question\": \"你好?\"})"
   ],
   "id": "5cde07b6629c5f8d",
   "outputs": [],
   "execution_count": null
  },
  {
   "metadata": {},
   "cell_type": "raw",
   "source": [
    "ollama chat，支持绑定tools \n",
    "https://python.langchain.com/docs/integrations/chat/ollama/"
   ],
   "id": "4027ed1de6681039"
  },
  {
   "metadata": {},
   "cell_type": "code",
   "source": "%pip install -qU langchain-ollama",
   "id": "f64b3afe6e30f21",
   "outputs": [],
   "execution_count": null
  },
  {
   "metadata": {},
   "cell_type": "code",
   "source": [
    "from langchain_ollama import ChatOllama\n",
    "llm = ChatOllama(\n",
    "    model=\"qwen2:7b\",\n",
    "    temperature=0,\n",
    "    # other params...\n",
    ")"
   ],
   "id": "b2aaf8432a22be87",
   "outputs": [],
   "execution_count": null
  },
  {
   "metadata": {},
   "cell_type": "code",
   "source": [
    "messages = [\n",
    "    (\n",
    "        \"system\",\n",
    "        \"You are a helpful assistant.\",\n",
    "    ),\n",
    "    (\"human\", \"中国有多大？\"),\n",
    "]\n",
    "ai_msg = llm.invoke(messages)\n",
    "ai_msg"
   ],
   "id": "c8c87a5e3b2dc91",
   "outputs": [],
   "execution_count": null
  },
  {
   "metadata": {},
   "cell_type": "code",
   "source": [
    "# pipeline方式，支持本地模型\n",
    "from langchain_huggingface.llms import HuggingFacePipeline\n",
    "from langchain_core.prompts import PromptTemplate\n",
    "\n",
    "hf = HuggingFacePipeline.from_model_id(\n",
    "    model_id=\"/Users/luxun/workspace/ai/hf/models/Qwen1.5-0.5B\",\n",
    "    task=\"text-generation\",\n",
    "    pipeline_kwargs={\"max_new_tokens\": 50},\n",
    ")\n",
    "template = \"\"\"Question: {question}\n",
    "Answer: Let's think step by step.\"\"\"\n",
    "prompt = PromptTemplate.from_template(template)\n",
    "chain = prompt | hf\n",
    "question = \"What is electroencephalography?\"\n",
    "print(chain.invoke({\"question\": question}))"
   ],
   "id": "f94e9a8a4b864a",
   "outputs": [],
   "execution_count": null
  }
 ],
 "metadata": {
  "kernelspec": {
   "display_name": "Python 3",
   "language": "python",
   "name": "python3"
  },
  "language_info": {
   "codemirror_mode": {
    "name": "ipython",
    "version": 2
   },
   "file_extension": ".py",
   "mimetype": "text/x-python",
   "name": "python",
   "nbconvert_exporter": "python",
   "pygments_lexer": "ipython2",
   "version": "2.7.6"
  }
 },
 "nbformat": 4,
 "nbformat_minor": 5
}
